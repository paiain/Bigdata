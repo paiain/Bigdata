{
 "cells": [
  {
   "cell_type": "code",
   "execution_count": 3,
   "metadata": {},
   "outputs": [
    {
     "name": "stdout",
     "output_type": "stream",
     "text": [
      "['1. Beautiful is better than ugly.\\n', '2. Explicit is better than implicit.\\n', '3. Simple is better than complex.\\n', '4. Complex is better than complicated.\\n', '5. Flat is better than nested.\\n', '6. Sparse is better than dense.\\n', '7. Readability counts.\\n', \"8. Special cases aren't special enough to break the rules.\\n\", '9. Although practicality beats purity.\\n', '10. Errors should never pass silently.\\n', '11. Unless explicitly silenced.\\n', '12. In the face of ambiguity, refuse the temptation to guess.\\n', '13.There should be one-- and preferably only one --obvious way to do it.\\n', \"14. Although that way may not be obvious at first unless you're Dutch.\\n\", '15. Now is better than never.\\n', '16. Although never is often better than *right* now.\\n', \"17. If the implementation is hard to explain, it's a bad idea.\\n\", '18. If the implementation is easy to explain, it may be a good idea.\\n', \"19. Namespaces are one honking great idea -- let's do more of those!\"]\n",
      "19. Namespaces are one honking great idea -- let's do more of those!\n",
      "18. If the implementation is easy to explain, it may be a good idea.\n",
      "\n",
      "17. If the implementation is hard to explain, it's a bad idea.\n",
      "\n",
      "16. Although never is often better than *right* now.\n",
      "\n",
      "15. Now is better than never.\n",
      "\n",
      "14. Although that way may not be obvious at first unless you're Dutch.\n",
      "\n",
      "13.There should be one-- and preferably only one --obvious way to do it.\n",
      "\n",
      "12. In the face of ambiguity, refuse the temptation to guess.\n",
      "\n",
      "11. Unless explicitly silenced.\n",
      "\n",
      "10. Errors should never pass silently.\n",
      "\n",
      "9. Although practicality beats purity.\n",
      "\n",
      "8. Special cases aren't special enough to break the rules.\n",
      "\n",
      "7. Readability counts.\n",
      "\n",
      "6. Sparse is better than dense.\n",
      "\n",
      "5. Flat is better than nested.\n",
      "\n",
      "4. Complex is better than complicated.\n",
      "\n",
      "3. Simple is better than complex.\n",
      "\n",
      "2. Explicit is better than implicit.\n",
      "\n",
      "1. Beautiful is better than ugly.\n",
      "\n"
     ]
    }
   ],
   "source": [
    "import csv\n",
    "with open('./TextFile/zen_of_python.txt', 'r') as fp:    \n",
    "    line = fp.readline()  \n",
    "    list_line = [] \n",
    "    while line:  \n",
    "        list_line.append(line)\n",
    "        line = fp.readline()  \n",
    "print(list_line)\n",
    "\n",
    "with open('./TextFile/new_zen_of_python.txt', 'w') as f:\n",
    "    for i in range(18,-1,-1):\n",
    "        print(list_line[i])\n",
    "        f.write(list_line[i])"
   ]
  }
 ],
 "metadata": {
  "interpreter": {
   "hash": "7d04c2ccdc77879c44c0e38a475c5c944666b751d27f26244a0b0bd35fcecd56"
  },
  "kernelspec": {
   "display_name": "Python 3.10.0 64-bit",
   "language": "python",
   "name": "python3"
  },
  "language_info": {
   "codemirror_mode": {
    "name": "ipython",
    "version": 3
   },
   "file_extension": ".py",
   "mimetype": "text/x-python",
   "name": "python",
   "nbconvert_exporter": "python",
   "pygments_lexer": "ipython3",
   "version": "3.10.0"
  },
  "orig_nbformat": 4
 },
 "nbformat": 4,
 "nbformat_minor": 2
}
