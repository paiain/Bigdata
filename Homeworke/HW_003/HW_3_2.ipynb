{
 "cells": [
  {
   "cell_type": "code",
   "execution_count": 8,
   "metadata": {},
   "outputs": [
    {
     "name": "stdout",
     "output_type": "stream",
     "text": [
      "complete\n"
     ]
    }
   ],
   "source": [
    "#การจัดการไฟล์ CSV\n",
    "import csv\n",
    "\n",
    "''' PEP:/20\n",
    "Title:/The Zen of Python\n",
    "Author:/tim.peters at gmail.com (Tim Peters)\n",
    "Status:/Active\n",
    "Type:/Informational\n",
    "Created:/19-Aug-2004\n",
    "Post-History:/22-Aug-2004 '''\n",
    "\n",
    "mydata = [[\"PEP\",\"Title\",\"Author\",\"Status\",\"Type\",\"Created\",\"History\"],\n",
    "    [\"20\",\"The Zen of Python\",\"tim.peters at gmail.com\",\"Active\",\"Informational\",\"19-Aug-2004\",\"22-Aug-2004\"]]\n",
    "\n",
    "with open('./TextFile/title_zen_of_python.csv','w') as newfile :\n",
    "    write = csv.writer(newfile)\n",
    "    write.writerows(mydata)\n",
    "\n",
    "print(\"complete\")\n"
   ]
  }
 ],
 "metadata": {
  "interpreter": {
   "hash": "7d04c2ccdc77879c44c0e38a475c5c944666b751d27f26244a0b0bd35fcecd56"
  },
  "kernelspec": {
   "display_name": "Python 3.10.0 64-bit",
   "language": "python",
   "name": "python3"
  },
  "language_info": {
   "codemirror_mode": {
    "name": "ipython",
    "version": 3
   },
   "file_extension": ".py",
   "mimetype": "text/x-python",
   "name": "python",
   "nbconvert_exporter": "python",
   "pygments_lexer": "ipython3",
   "version": "3.10.0"
  },
  "orig_nbformat": 4
 },
 "nbformat": 4,
 "nbformat_minor": 2
}
