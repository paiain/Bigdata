{
 "cells": [
  {
   "cell_type": "code",
   "execution_count": 31,
   "metadata": {},
   "outputs": [
    {
     "name": "stdout",
     "output_type": "stream",
     "text": [
      "[1, 4, 3, 5, 7]\n",
      "[1, 4, 4, 3, 5, 7]\n",
      "[1, 4, 4, 4, 3, 5, 7]\n",
      "[1, 4, 4, 4, 4, 3, 5, 7]\n"
     ]
    }
   ],
   "source": [
    "\n",
    "'''q = []\n",
    "c = 0\n",
    "while c != 5:\n",
    "    id = int(input('ชั้นปี'))\n",
    "    q.append(id)\n",
    "    c += 1\n",
    "    c = c\n",
    "    a = q.pop(0)\n",
    "    print(a)\n",
    "'''\n",
    "#q.insert(1,\"a\")เพิ่มข้อมูลแบบระบุตำแหน่ง\n",
    "q = [1,3,5,7]\n",
    "id = int(input('ชั้นปี'))\n",
    "a = len(q)\n",
    "for i in range(a) :\n",
    "    if id > q[i]:\n",
    "        q.insert(i+1,id)\n",
    "        print(q)\n",
    "        q = q\n",
    "    elif id == q[i]:\n",
    "        q.insert(i+1,id)\n",
    "        print(q)\n",
    "        q = q\n",
    "    elif id < q[i]:\n",
    "        q.append(id)\n",
    "        print(q)\n",
    "        q = q\n",
    "    else:\n",
    "        break\n"
   ]
  },
  {
   "cell_type": "code",
   "execution_count": 2,
   "metadata": {},
   "outputs": [],
   "source": [
    "nc,ns = [int(x) for x in input().split()]\n",
    "stdclass = {}\n",
    "que = []\n",
    "classque = []\n",
    "current = 0\n",
    "for i in range(ns):\n",
    "    c,s = [x for x in input().split()]\n",
    "    stdclass[s] = c\n",
    "order = input().split()\n",
    "while order[0] != \"X\":\n",
    "    if order[0] == \"E\":\n",
    "        id = order[1]\n",
    "        if stdclass[id] not in classque:\n",
    "            classque.append(stdclass[id])\n",
    "            que.append([])\n",
    "        que[classque.index(stdclass[id])]+= [id]\n",
    "    elif order[0] == \"D\":\n",
    "        if len(que) > 1:\n",
    "            if len(que[0])>1:\n",
    "                result = que[0][0]\n",
    "                que[0] = que[0][1:]\n",
    "            else:\n",
    "                result = que[0][0]\n",
    "                que = que[1:]\n",
    "                classque = classque[1:]\n",
    "        elif len(que) == 1:\n",
    "            if len(que[0])>1:\n",
    "                result = que[0][0]\n",
    "                que[0] = que[0][1:]\n",
    "            else:\n",
    "                result = que[0][0]\n",
    "                que = []\n",
    "                classque = []\n",
    "        else:\n",
    "            result = \"empty\"\n",
    "        print(result)\n",
    "    order = input().split()\n",
    "print(0)\n",
    "         "
   ]
  },
  {
   "cell_type": "code",
   "execution_count": 2,
   "metadata": {},
   "outputs": [
    {
     "name": "stdout",
     "output_type": "stream",
     "text": [
      "10\n",
      "9\n",
      "8\n",
      "7\n",
      "6\n",
      "empty\n",
      "empty\n",
      "empty\n",
      "empty\n",
      "empty\n",
      "empty\n",
      "empty\n",
      "empty\n",
      "empty\n",
      "empty\n",
      "empty\n"
     ]
    }
   ],
   "source": [
    "q = []\n",
    "data = input(\"ป้อนข้อมูล : \")\n",
    "while data != \"x\" :\n",
    "    if data != \"d\":\n",
    "        q.insert(0,data)\n",
    "    else:\n",
    "        if q == []:\n",
    "            print(\"empty\")\n",
    "        else:\n",
    "            print(q.pop())\n",
    "    data = input(\"ป้อนข้อมูล :\")"
   ]
  },
  {
   "cell_type": "code",
   "execution_count": 4,
   "metadata": {},
   "outputs": [
    {
     "name": "stdout",
     "output_type": "stream",
     "text": [
      "['10', '20']\n"
     ]
    }
   ],
   "source": [
    "a = input().split()\n",
    "print(a)"
   ]
  }
 ],
 "metadata": {
  "interpreter": {
   "hash": "7d04c2ccdc77879c44c0e38a475c5c944666b751d27f26244a0b0bd35fcecd56"
  },
  "kernelspec": {
   "display_name": "Python 3.10.0 64-bit",
   "language": "python",
   "name": "python3"
  },
  "language_info": {
   "codemirror_mode": {
    "name": "ipython",
    "version": 3
   },
   "file_extension": ".py",
   "mimetype": "text/x-python",
   "name": "python",
   "nbconvert_exporter": "python",
   "pygments_lexer": "ipython3",
   "version": "3.10.2"
  },
  "orig_nbformat": 4
 },
 "nbformat": 4,
 "nbformat_minor": 2
}
