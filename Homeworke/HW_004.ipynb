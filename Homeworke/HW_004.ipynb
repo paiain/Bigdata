{
 "cells": [
  {
   "cell_type": "code",
   "execution_count": 31,
   "metadata": {},
   "outputs": [
    {
     "name": "stdout",
     "output_type": "stream",
     "text": [
      "[1, 4, 3, 5, 7]\n",
      "[1, 4, 4, 3, 5, 7]\n",
      "[1, 4, 4, 4, 3, 5, 7]\n",
      "[1, 4, 4, 4, 4, 3, 5, 7]\n"
     ]
    }
   ],
   "source": [
    "\n",
    "'''q = []\n",
    "c = 0\n",
    "while c != 5:\n",
    "    id = int(input('ชั้นปี'))\n",
    "    q.append(id)\n",
    "    c += 1\n",
    "    c = c\n",
    "    a = q.pop(0)\n",
    "    print(a)\n",
    "'''\n",
    "#q.insert(1,\"a\")เพิ่มข้อมูลแบบระบุตำแหน่ง\n",
    "q = [1,3,5,7]\n",
    "id = int(input('ชั้นปี'))\n",
    "a = len(q)\n",
    "for i in range(a) :\n",
    "    if id > q[i]:\n",
    "        q.insert(i+1,id)\n",
    "        print(q)\n",
    "        q = q\n",
    "    elif id == q[i]:\n",
    "        q.insert(i+1,id)\n",
    "        print(q)\n",
    "        q = q\n",
    "    elif id < q[i]:\n",
    "        q.append(id)\n",
    "        print(q)\n",
    "        q = q\n",
    "    else:\n",
    "        break\n"
   ]
  },
  {
   "cell_type": "code",
   "execution_count": null,
   "metadata": {},
   "outputs": [],
   "source": []
  }
 ],
 "metadata": {
  "interpreter": {
   "hash": "7d04c2ccdc77879c44c0e38a475c5c944666b751d27f26244a0b0bd35fcecd56"
  },
  "kernelspec": {
   "display_name": "Python 3.10.0 64-bit",
   "language": "python",
   "name": "python3"
  },
  "language_info": {
   "codemirror_mode": {
    "name": "ipython",
    "version": 3
   },
   "file_extension": ".py",
   "mimetype": "text/x-python",
   "name": "python",
   "nbconvert_exporter": "python",
   "pygments_lexer": "ipython3",
   "version": "3.10.0"
  },
  "orig_nbformat": 4
 },
 "nbformat": 4,
 "nbformat_minor": 2
}
