{
 "cells": [
  {
   "cell_type": "code",
   "execution_count": 65,
   "metadata": {},
   "outputs": [
    {
     "name": "stdout",
     "output_type": "stream",
     "text": [
      "ค่าใช้จ่ายรวม : 11\n"
     ]
    }
   ],
   "source": [
    "import math\n",
    "n = input(\"ความยาวสนาม\")\n",
    "m = input(\"ความกว้างสนาม\")\n",
    "l = input(\"ค่านำ้มัน\")\n",
    "k = input(\"จำนวนครั้งที่บิน\")\n",
    "c = input(\"จำนวนคน\")\n",
    "\n",
    "a = int(k)*int(c)*int(l)\n",
    "\n",
    "n = int(n)*int(m)\n",
    "sumf = 0\n",
    "\n",
    "while (n != 0) :\n",
    "    f = input(\"ค่าไฟ:\")\n",
    "    f = int(f)\n",
    "    sumf += f\n",
    "    n = n-1\n",
    "\n",
    "\n",
    "\n",
    "print(\"ค่าใช้จ่ายรวม :\",math.ceil( sumf + a))\n",
    "\n",
    "    \n",
    "\n",
    "\n"
   ]
  }
 ],
 "metadata": {
  "interpreter": {
   "hash": "7d04c2ccdc77879c44c0e38a475c5c944666b751d27f26244a0b0bd35fcecd56"
  },
  "kernelspec": {
   "display_name": "Python 3.10.0 64-bit",
   "language": "python",
   "name": "python3"
  },
  "language_info": {
   "name": "python",
   "version": "3.10.0"
  },
  "orig_nbformat": 4
 },
 "nbformat": 4,
 "nbformat_minor": 2
}
